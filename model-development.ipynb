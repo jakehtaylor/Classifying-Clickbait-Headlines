{
 "cells": [
  {
   "cell_type": "markdown",
   "metadata": {},
   "source": [
    "Machine learning code for clickbait detector alogorithm based on 'Clickbait Classifier using LSTM' by user 'atechnohazard' found on Kaggle under the 'kernels' tab of the dataset we used. All other code is original work. https://www.kaggle.com/atechnohazard/clickbait-classifier-using-lstm"
   ]
  },
  {
   "cell_type": "code",
   "execution_count": 1,
   "metadata": {},
   "outputs": [],
   "source": [
    "import numpy as np\n",
    "import pandas as pd\n",
    "import matplotlib.pyplot as plt\n",
    "import re\n",
    "import nltk\n",
    "import json\n",
    "from nltk.corpus import stopwords\n",
    "import string as s\n",
    "\n",
    "from sklearn.model_selection import train_test_split\n",
    "from sklearn.feature_extraction.text import CountVectorizer\n",
    "from sklearn.metrics import confusion_matrix\n",
    "from mlxtend.plotting import plot_confusion_matrix\n",
    "\n",
    "from tensorflow.keras.models import Sequential\n",
    "from tensorflow.keras.layers import Embedding, LSTM, Dense, Dropout, GlobalMaxPooling1D\n",
    "from tensorflow.keras.preprocessing.text import Tokenizer\n",
    "from tensorflow.keras.preprocessing.sequence import pad_sequences\n",
    "from tensorflow.keras.callbacks import ModelCheckpoint, EarlyStopping"
   ]
  },
  {
   "cell_type": "code",
   "execution_count": 2,
   "metadata": {},
   "outputs": [
    {
     "data": {
      "text/html": [
       "<div>\n",
       "<style scoped>\n",
       "    .dataframe tbody tr th:only-of-type {\n",
       "        vertical-align: middle;\n",
       "    }\n",
       "\n",
       "    .dataframe tbody tr th {\n",
       "        vertical-align: top;\n",
       "    }\n",
       "\n",
       "    .dataframe thead th {\n",
       "        text-align: right;\n",
       "    }\n",
       "</style>\n",
       "<table border=\"1\" class=\"dataframe\">\n",
       "  <thead>\n",
       "    <tr style=\"text-align: right;\">\n",
       "      <th></th>\n",
       "      <th>headline</th>\n",
       "      <th>clickbait</th>\n",
       "    </tr>\n",
       "  </thead>\n",
       "  <tbody>\n",
       "    <tr>\n",
       "      <th>0</th>\n",
       "      <td>Should I Get Bings</td>\n",
       "      <td>1</td>\n",
       "    </tr>\n",
       "    <tr>\n",
       "      <th>1</th>\n",
       "      <td>Which TV Female Friend Group Do You Belong In</td>\n",
       "      <td>1</td>\n",
       "    </tr>\n",
       "    <tr>\n",
       "      <th>2</th>\n",
       "      <td>The New \"Star Wars: The Force Awakens\" Trailer...</td>\n",
       "      <td>1</td>\n",
       "    </tr>\n",
       "    <tr>\n",
       "      <th>3</th>\n",
       "      <td>This Vine Of New York On \"Celebrity Big Brothe...</td>\n",
       "      <td>1</td>\n",
       "    </tr>\n",
       "    <tr>\n",
       "      <th>4</th>\n",
       "      <td>A Couple Did A Stunning Photo Shoot With Their...</td>\n",
       "      <td>1</td>\n",
       "    </tr>\n",
       "    <tr>\n",
       "      <th>...</th>\n",
       "      <td>...</td>\n",
       "      <td>...</td>\n",
       "    </tr>\n",
       "    <tr>\n",
       "      <th>31995</th>\n",
       "      <td>To Make Female Hearts Flutter in Iraq, Throw a...</td>\n",
       "      <td>0</td>\n",
       "    </tr>\n",
       "    <tr>\n",
       "      <th>31996</th>\n",
       "      <td>British Liberal Democrat Patsy Calton, 56, die...</td>\n",
       "      <td>0</td>\n",
       "    </tr>\n",
       "    <tr>\n",
       "      <th>31997</th>\n",
       "      <td>Drone smartphone app to help heart attack vict...</td>\n",
       "      <td>0</td>\n",
       "    </tr>\n",
       "    <tr>\n",
       "      <th>31998</th>\n",
       "      <td>Netanyahu Urges Pope Benedict, in Israel, to D...</td>\n",
       "      <td>0</td>\n",
       "    </tr>\n",
       "    <tr>\n",
       "      <th>31999</th>\n",
       "      <td>Computer Makers Prepare to Stake Bigger Claim ...</td>\n",
       "      <td>0</td>\n",
       "    </tr>\n",
       "  </tbody>\n",
       "</table>\n",
       "<p>32000 rows × 2 columns</p>\n",
       "</div>"
      ],
      "text/plain": [
       "                                                headline  clickbait\n",
       "0                                     Should I Get Bings          1\n",
       "1          Which TV Female Friend Group Do You Belong In          1\n",
       "2      The New \"Star Wars: The Force Awakens\" Trailer...          1\n",
       "3      This Vine Of New York On \"Celebrity Big Brothe...          1\n",
       "4      A Couple Did A Stunning Photo Shoot With Their...          1\n",
       "...                                                  ...        ...\n",
       "31995  To Make Female Hearts Flutter in Iraq, Throw a...          0\n",
       "31996  British Liberal Democrat Patsy Calton, 56, die...          0\n",
       "31997  Drone smartphone app to help heart attack vict...          0\n",
       "31998  Netanyahu Urges Pope Benedict, in Israel, to D...          0\n",
       "31999  Computer Makers Prepare to Stake Bigger Claim ...          0\n",
       "\n",
       "[32000 rows x 2 columns]"
      ]
     },
     "execution_count": 2,
     "metadata": {},
     "output_type": "execute_result"
    }
   ],
   "source": [
    "FILE_PATH = 'new resources/clickbait_data.csv'\n",
    "data = pd.read_csv(FILE_PATH)\n",
    "data"
   ]
  },
  {
   "cell_type": "code",
   "execution_count": 3,
   "metadata": {},
   "outputs": [],
   "source": [
    "# processing headlines to optimize model performance\n",
    "\n",
    "text = data['headline'].values\n",
    "labels = data['clickbait'].values\n",
    "\n",
    "stpwrds = set(stopwords.words('english'))\n",
    "new_text =[]\n",
    "\n",
    "_digits_ = str.maketrans('', '', s.digits)\n",
    "\n",
    "# loop to remove all stopwords and digits from headlines (head)\n",
    "\n",
    "for head in text:\n",
    "    head = head.translate(_digits_)\n",
    "    head = head.lower()\n",
    "    head = ' '.join(list(set(re.split(\"\\W+\",head)) - stpwrds))\n",
    "    new_text.append(head)\n",
    "    \n",
    "# splitting and tokenizing all headlines, using pad_sequences to create uniform length by adding null values to the end\n",
    "    \n",
    "text_train, text_test, y_train, y_test = train_test_split(new_text, labels)\n",
    "\n",
    "tokenizer = Tokenizer(lower=True)\n",
    "tokenizer.fit_on_texts(new_text)\n",
    "\n",
    "X_train = tokenizer.texts_to_sequences(text_train)\n",
    "x_test = tokenizer.texts_to_sequences(text_test)\n",
    "\n",
    "X_train = pad_sequences(X_train, maxlen=100)\n",
    "x_test = pad_sequences(x_test, maxlen=100)"
   ]
  },
  {
   "cell_type": "code",
   "execution_count": 4,
   "metadata": {},
   "outputs": [
    {
     "data": {
      "text/plain": [
       "['video new bbc released alan  wearing belt explosive shows johnston journalist',\n",
       " 'pretend exist pretending us',\n",
       " 'discover police iraqi bodies',\n",
       " 'disney would like life movie',\n",
       " 'push th three walks braves past mets',\n",
       " 'journalists dangers face ups freelancers start',\n",
       " ' fruit people freakin love gifts',\n",
       " 'france air recorders flight found',\n",
       " 'ultimate fangirls bardem u stage penelope cruz javier',\n",
       " 'bryan bad station breaking cranston dvds send tried space international',\n",
       " ' clean life gifts freak',\n",
       " ' christmas would questions rather answer impossible',\n",
       " ' add extra cook everything ways flavor',\n",
       " 'people take holiday photos honest single',\n",
       " 'wrap happened battle compete celebrities',\n",
       " 'public confrontations violent results golf courses often rage',\n",
       " 'legalizes sex marriage spain',\n",
       " ' girls things american british jealous teens insanely',\n",
       " 'grids bargaining smart utility customers power give',\n",
       " 'action rak face thai sondhi legal may party']"
      ]
     },
     "execution_count": 4,
     "metadata": {},
     "output_type": "execute_result"
    }
   ],
   "source": [
    "text_train[0:20]"
   ]
  },
  {
   "cell_type": "code",
   "execution_count": 5,
   "metadata": {},
   "outputs": [],
   "source": [
    "n = []\n",
    "\n",
    "for h in text:\n",
    "    n.extend(h.split(' '))\n",
    "    \n",
    "vocab = len(pd.Series(n).unique())"
   ]
  },
  {
   "cell_type": "code",
   "execution_count": 6,
   "metadata": {},
   "outputs": [
    {
     "name": "stdout",
     "output_type": "stream",
     "text": [
      "Model: \"sequential\"\n",
      "_________________________________________________________________\n",
      "Layer (type)                 Output Shape              Param #   \n",
      "=================================================================\n",
      "embedding (Embedding)        (None, 100, 32)           1145312   \n",
      "_________________________________________________________________\n",
      "lstm (LSTM)                  (None, 100, 32)           8320      \n",
      "_________________________________________________________________\n",
      "global_max_pooling1d (Global (None, 32)                0         \n",
      "_________________________________________________________________\n",
      "dropout (Dropout)            (None, 32)                0         \n",
      "_________________________________________________________________\n",
      "dense (Dense)                (None, 1)                 33        \n",
      "=================================================================\n",
      "Total params: 1,153,665\n",
      "Trainable params: 1,153,665\n",
      "Non-trainable params: 0\n",
      "_________________________________________________________________\n"
     ]
    }
   ],
   "source": [
    "# creating the model\n",
    "\n",
    "model = Sequential()\n",
    "model.add(Embedding(vocab+1, 32, input_length=100))\n",
    "model.add(LSTM(32, return_sequences=True))\n",
    "model.add(GlobalMaxPooling1D())\n",
    "model.add(Dropout(0.2))\n",
    "model.add(Dense(1, activation='sigmoid'))\n",
    "model.summary()"
   ]
  },
  {
   "cell_type": "code",
   "execution_count": 7,
   "metadata": {},
   "outputs": [],
   "source": [
    "callbacks = [\n",
    "    EarlyStopping(\n",
    "        monitor='val_accuracy',\n",
    "        min_delta=1e-4,\n",
    "        patience=3,\n",
    "        verbose=1\n",
    "    ),\n",
    "    ModelCheckpoint(\n",
    "        filepath='weights.h5',\n",
    "        monitor='val_accuracy', \n",
    "        mode='max', \n",
    "        save_best_only=True,\n",
    "        save_weights_only=True,\n",
    "        verbose=1\n",
    "    )\n",
    "]\n"
   ]
  },
  {
   "cell_type": "code",
   "execution_count": 8,
   "metadata": {},
   "outputs": [
    {
     "name": "stdout",
     "output_type": "stream",
     "text": [
      "Epoch 1/20\n",
      "47/47 [==============================] - ETA: 0s - loss: 0.6625 - accuracy: 0.7685\n",
      "Epoch 00001: val_accuracy improved from -inf to 0.93163, saving model to weights.h5\n",
      "47/47 [==============================] - 23s 479ms/step - loss: 0.6625 - accuracy: 0.7685 - val_loss: 0.5717 - val_accuracy: 0.9316\n",
      "Epoch 2/20\n",
      "47/47 [==============================] - ETA: 0s - loss: 0.3942 - accuracy: 0.9308\n",
      "Epoch 00002: val_accuracy improved from 0.93163 to 0.94638, saving model to weights.h5\n",
      "47/47 [==============================] - 23s 486ms/step - loss: 0.3942 - accuracy: 0.9308 - val_loss: 0.2300 - val_accuracy: 0.9464\n",
      "Epoch 3/20\n",
      "47/47 [==============================] - ETA: 0s - loss: 0.1588 - accuracy: 0.9649\n",
      "Epoch 00003: val_accuracy improved from 0.94638 to 0.95538, saving model to weights.h5\n",
      "47/47 [==============================] - 22s 477ms/step - loss: 0.1588 - accuracy: 0.9649 - val_loss: 0.1458 - val_accuracy: 0.9554\n",
      "Epoch 4/20\n",
      "47/47 [==============================] - ETA: 0s - loss: 0.0943 - accuracy: 0.9789\n",
      "Epoch 00004: val_accuracy improved from 0.95538 to 0.95875, saving model to weights.h5\n",
      "47/47 [==============================] - 27s 571ms/step - loss: 0.0943 - accuracy: 0.9789 - val_loss: 0.1273 - val_accuracy: 0.9588\n",
      "Epoch 5/20\n",
      "47/47 [==============================] - ETA: 0s - loss: 0.0644 - accuracy: 0.9875\n",
      "Epoch 00005: val_accuracy improved from 0.95875 to 0.95900, saving model to weights.h5\n",
      "47/47 [==============================] - 24s 504ms/step - loss: 0.0644 - accuracy: 0.9875 - val_loss: 0.1230 - val_accuracy: 0.9590\n",
      "Epoch 6/20\n",
      "47/47 [==============================] - ETA: 0s - loss: 0.0459 - accuracy: 0.9918\n",
      "Epoch 00006: val_accuracy did not improve from 0.95900\n",
      "47/47 [==============================] - 26s 560ms/step - loss: 0.0459 - accuracy: 0.9918 - val_loss: 0.1294 - val_accuracy: 0.9554\n",
      "Epoch 7/20\n",
      "47/47 [==============================] - ETA: 0s - loss: 0.0352 - accuracy: 0.9949\n",
      "Epoch 00007: val_accuracy did not improve from 0.95900\n",
      "47/47 [==============================] - 21s 457ms/step - loss: 0.0352 - accuracy: 0.9949 - val_loss: 0.1294 - val_accuracy: 0.9553\n",
      "Epoch 8/20\n",
      "47/47 [==============================] - ETA: 0s - loss: 0.0277 - accuracy: 0.9961\n",
      "Epoch 00008: val_accuracy did not improve from 0.95900\n",
      "47/47 [==============================] - 24s 518ms/step - loss: 0.0277 - accuracy: 0.9961 - val_loss: 0.1375 - val_accuracy: 0.9540\n",
      "Epoch 00008: early stopping\n"
     ]
    }
   ],
   "source": [
    "model.compile(loss='binary_crossentropy', optimizer='adam', metrics=['accuracy'])\n",
    "\n",
    "history = model.fit(X_train, \n",
    "                    y_train, \n",
    "                    batch_size=512, \n",
    "                    validation_data=(x_test, y_test), \n",
    "                    epochs=20, \n",
    "                    callbacks=callbacks)"
   ]
  },
  {
   "cell_type": "code",
   "execution_count": 9,
   "metadata": {},
   "outputs": [
    {
     "name": "stdout",
     "output_type": "stream",
     "text": [
      "WARNING:tensorflow:From /Users/jaketaylor/opt/anaconda3/lib/python3.7/site-packages/tensorflow/python/ops/resource_variable_ops.py:1817: calling BaseResourceVariable.__init__ (from tensorflow.python.ops.resource_variable_ops) with constraint is deprecated and will be removed in a future version.\n",
      "Instructions for updating:\n",
      "If using Keras pass *_constraint arguments to layers.\n",
      "INFO:tensorflow:Assets written to: model/assets\n"
     ]
    }
   ],
   "source": [
    "model.load_weights('weights.h5')\n",
    "model.save('model')"
   ]
  },
  {
   "cell_type": "code",
   "execution_count": 10,
   "metadata": {},
   "outputs": [
    {
     "data": {
      "text/plain": [
       "<Figure size 432x288 with 0 Axes>"
      ]
     },
     "metadata": {},
     "output_type": "display_data"
    },
    {
     "data": {
      "image/png": "[encoded data removed]",
      "text/plain": [
       "<Figure size 864x576 with 1 Axes>"
      ]
     },
     "metadata": {
      "needs_background": "light"
     },
     "output_type": "display_data"
    }
   ],
   "source": [
    "preds = [round(i[0]) for i in model.predict(x_test)]\n",
    "cm = confusion_matrix(y_test, preds)\n",
    "plt.figure()\n",
    "plot_confusion_matrix(cm, figsize=(12,8), hide_ticks=True, cmap=plt.cm.Blues)\n",
    "plt.xticks(range(2), ['Not clickbait', 'Clickbait'], fontsize=16)\n",
    "plt.yticks(range(2), ['Not clickbait', 'Clickbait'], fontsize=16)\n",
    "plt.show()"
   ]
  },
  {
   "cell_type": "code",
   "execution_count": 11,
   "metadata": {},
   "outputs": [
    {
     "name": "stdout",
     "output_type": "stream",
     "text": [
      "Recall of the model is 0.96\n",
      "Precision of the model is 0.96\n"
     ]
    }
   ],
   "source": [
    "tn, fp, fn, tp = cm.ravel()\n",
    "\n",
    "precision = tp/(tp+fp)\n",
    "recall = tp/(tp+fn)\n",
    "\n",
    "print(\"Recall of the model is {:.2f}\".format(recall))\n",
    "print(\"Precision of the model is {:.2f}\".format(precision))"
   ]
  },
  {
   "cell_type": "code",
   "execution_count": 12,
   "metadata": {},
   "outputs": [],
   "source": [
    "# function that takes in a list of headlines and returns both the binary prediction and the label for each\n",
    "\n",
    "def predict(test):\n",
    "    labels = []\n",
    "    predicts = []\n",
    "    for t in test:\n",
    "        t = t.translate(_digits_)\n",
    "        t = t.lower()\n",
    "        t = ' '.join(list(set(re.split(\"\\W+\",t)) - stpwrds))\n",
    "    token_text = pad_sequences(tokenizer.texts_to_sequences(test), maxlen=100)\n",
    "\n",
    "    preds = [round(i[0]) for i in model.predict(token_text)]\n",
    "    for (text, pred) in zip(test, preds):\n",
    "        label = 'Clickbait' if pred == 1.0 else 'Not Clickbait'\n",
    "        labels.append(label)\n",
    "        predicts.append(pred)\n",
    "        \n",
    "    return [labels, predicts]\n"
   ]
  },
  {
   "cell_type": "code",
   "execution_count": 13,
   "metadata": {},
   "outputs": [],
   "source": [
    "master = pd.read_csv('cleaned_articles.csv')"
   ]
  },
  {
   "cell_type": "code",
   "execution_count": 14,
   "metadata": {},
   "outputs": [],
   "source": [
    "category = []\n",
    "urls=[]\n",
    "\n",
    "# stripping filepath to yield category, as well as processing the url column to yield the source of the article\n",
    "\n",
    "for f in master['filename']:\n",
    "    category.append(f.replace('new resources\\project-','').replace('.csv',''))\n",
    "for u in master['url']:\n",
    "    u = u.replace(\n",
    "        'https://', '').replace(\n",
    "        'www.', '').replace(\n",
    "        'http://', '').split(\n",
    "        \".com\")[0]\n",
    "    if '.net' in u:\n",
    "        u = u.split('.net')[0]\n",
    "    \n",
    "    urls.append(u)\n",
    "    \n",
    "    \n",
    "del master['filename']\n",
    "del master['url']\n",
    "\n",
    "master['Category'] = category\n",
    "master['Source'] = urls\n"
   ]
  },
  {
   "cell_type": "code",
   "execution_count": 15,
   "metadata": {},
   "outputs": [],
   "source": [
    "clean = master.dropna(subset=['title'])"
   ]
  },
  {
   "cell_type": "code",
   "execution_count": null,
   "metadata": {},
   "outputs": [],
   "source": [
    "clean['Clickbait'] = predict(clean['title'])[0]\n",
    "clean['Clickbait binary'] = predict(clean['title'])[1]"
   ]
  },
  {
   "cell_type": "code",
   "execution_count": 17,
   "metadata": {},
   "outputs": [],
   "source": [
    "clickcat = clean.groupby(['Category', 'Clickbait'])"
   ]
  },
  {
   "cell_type": "code",
   "execution_count": 78,
   "metadata": {},
   "outputs": [],
   "source": [
    "b = pd.DataFrame({\n",
    "    'Mean Shares per Article' : clickcat['total_facebook_shares'].mean(),\n",
    "    'Mean Likes per Article' : clickcat['facebook_likes'].mean(),\n",
    "})\n",
    "b = b[['Mean Likes per Article']]"
   ]
  },
  {
   "cell_type": "code",
   "execution_count": 79,
   "metadata": {},
   "outputs": [
    {
     "data": {
      "text/html": [
       "<div>\n",
       "<style scoped>\n",
       "    .dataframe tbody tr th:only-of-type {\n",
       "        vertical-align: middle;\n",
       "    }\n",
       "\n",
       "    .dataframe tbody tr th {\n",
       "        vertical-align: top;\n",
       "    }\n",
       "\n",
       "    .dataframe thead th {\n",
       "        text-align: right;\n",
       "    }\n",
       "</style>\n",
       "<table border=\"1\" class=\"dataframe\">\n",
       "  <thead>\n",
       "    <tr style=\"text-align: right;\">\n",
       "      <th></th>\n",
       "      <th></th>\n",
       "      <th>Mean Likes per Article</th>\n",
       "    </tr>\n",
       "    <tr>\n",
       "      <th>Category</th>\n",
       "      <th>Clickbait</th>\n",
       "      <th></th>\n",
       "    </tr>\n",
       "  </thead>\n",
       "  <tbody>\n",
       "    <tr>\n",
       "      <th rowspan=\"2\" valign=\"top\">blacklivesmatter</th>\n",
       "      <th>Clickbait</th>\n",
       "      <td>20472.590800</td>\n",
       "    </tr>\n",
       "    <tr>\n",
       "      <th>Not Clickbait</th>\n",
       "      <td>25231.484646</td>\n",
       "    </tr>\n",
       "    <tr>\n",
       "      <th rowspan=\"2\" valign=\"top\">covid</th>\n",
       "      <th>Clickbait</th>\n",
       "      <td>137736.948837</td>\n",
       "    </tr>\n",
       "    <tr>\n",
       "      <th>Not Clickbait</th>\n",
       "      <td>122003.601403</td>\n",
       "    </tr>\n",
       "    <tr>\n",
       "      <th rowspan=\"2\" valign=\"top\">education</th>\n",
       "      <th>Clickbait</th>\n",
       "      <td>4200.786932</td>\n",
       "    </tr>\n",
       "    <tr>\n",
       "      <th>Not Clickbait</th>\n",
       "      <td>3135.287952</td>\n",
       "    </tr>\n",
       "    <tr>\n",
       "      <th rowspan=\"2\" valign=\"top\">entertainment</th>\n",
       "      <th>Clickbait</th>\n",
       "      <td>31040.563945</td>\n",
       "    </tr>\n",
       "    <tr>\n",
       "      <th>Not Clickbait</th>\n",
       "      <td>39573.192504</td>\n",
       "    </tr>\n",
       "    <tr>\n",
       "      <th rowspan=\"2\" valign=\"top\">fitness</th>\n",
       "      <th>Clickbait</th>\n",
       "      <td>675.236591</td>\n",
       "    </tr>\n",
       "    <tr>\n",
       "      <th>Not Clickbait</th>\n",
       "      <td>1044.421923</td>\n",
       "    </tr>\n",
       "    <tr>\n",
       "      <th rowspan=\"2\" valign=\"top\">food</th>\n",
       "      <th>Clickbait</th>\n",
       "      <td>12160.373614</td>\n",
       "    </tr>\n",
       "    <tr>\n",
       "      <th>Not Clickbait</th>\n",
       "      <td>8459.758144</td>\n",
       "    </tr>\n",
       "    <tr>\n",
       "      <th rowspan=\"2\" valign=\"top\">health</th>\n",
       "      <th>Clickbait</th>\n",
       "      <td>33013.090622</td>\n",
       "    </tr>\n",
       "    <tr>\n",
       "      <th>Not Clickbait</th>\n",
       "      <td>29799.778080</td>\n",
       "    </tr>\n",
       "    <tr>\n",
       "      <th rowspan=\"2\" valign=\"top\">politics</th>\n",
       "      <th>Clickbait</th>\n",
       "      <td>72282.831176</td>\n",
       "    </tr>\n",
       "    <tr>\n",
       "      <th>Not Clickbait</th>\n",
       "      <td>84166.912477</td>\n",
       "    </tr>\n",
       "    <tr>\n",
       "      <th rowspan=\"2\" valign=\"top\">sports</th>\n",
       "      <th>Clickbait</th>\n",
       "      <td>19891.462191</td>\n",
       "    </tr>\n",
       "    <tr>\n",
       "      <th>Not Clickbait</th>\n",
       "      <td>19500.841729</td>\n",
       "    </tr>\n",
       "    <tr>\n",
       "      <th rowspan=\"2\" valign=\"top\">technology</th>\n",
       "      <th>Clickbait</th>\n",
       "      <td>3675.117188</td>\n",
       "    </tr>\n",
       "    <tr>\n",
       "      <th>Not Clickbait</th>\n",
       "      <td>2248.077002</td>\n",
       "    </tr>\n",
       "    <tr>\n",
       "      <th rowspan=\"2\" valign=\"top\">trump</th>\n",
       "      <th>Clickbait</th>\n",
       "      <td>45050.744689</td>\n",
       "    </tr>\n",
       "    <tr>\n",
       "      <th>Not Clickbait</th>\n",
       "      <td>51713.277560</td>\n",
       "    </tr>\n",
       "  </tbody>\n",
       "</table>\n",
       "</div>"
      ],
      "text/plain": [
       "                                Mean Likes per Article\n",
       "Category         Clickbait                            \n",
       "blacklivesmatter Clickbait                20472.590800\n",
       "                 Not Clickbait            25231.484646\n",
       "covid            Clickbait               137736.948837\n",
       "                 Not Clickbait           122003.601403\n",
       "education        Clickbait                 4200.786932\n",
       "                 Not Clickbait             3135.287952\n",
       "entertainment    Clickbait                31040.563945\n",
       "                 Not Clickbait            39573.192504\n",
       "fitness          Clickbait                  675.236591\n",
       "                 Not Clickbait             1044.421923\n",
       "food             Clickbait                12160.373614\n",
       "                 Not Clickbait             8459.758144\n",
       "health           Clickbait                33013.090622\n",
       "                 Not Clickbait            29799.778080\n",
       "politics         Clickbait                72282.831176\n",
       "                 Not Clickbait            84166.912477\n",
       "sports           Clickbait                19891.462191\n",
       "                 Not Clickbait            19500.841729\n",
       "technology       Clickbait                 3675.117188\n",
       "                 Not Clickbait             2248.077002\n",
       "trump            Clickbait                45050.744689\n",
       "                 Not Clickbait            51713.277560"
      ]
     },
     "execution_count": 79,
     "metadata": {},
     "output_type": "execute_result"
    }
   ],
   "source": [
    "b"
   ]
  },
  {
   "cell_type": "code",
   "execution_count": 21,
   "metadata": {},
   "outputs": [],
   "source": [
    "source = clean.groupby('Source')"
   ]
  },
  {
   "cell_type": "code",
   "execution_count": 22,
   "metadata": {},
   "outputs": [
    {
     "data": {
      "text/plain": [
       "Source\n",
       "100percentfedup        26\n",
       "1010wins.radio          6\n",
       "1011now                 9\n",
       "1015thehawk             1\n",
       "101blockchains          1\n",
       "                       ..\n",
       "zondervan               1\n",
       "zoomtventertainment     8\n",
       "zora.medium             6\n",
       "zters                   1\n",
       "zumba                   1\n",
       "Name: title, Length: 7913, dtype: int64"
      ]
     },
     "execution_count": 22,
     "metadata": {},
     "output_type": "execute_result"
    }
   ],
   "source": [
    "source['title'].count()"
   ]
  },
  {
   "cell_type": "code",
   "execution_count": 68,
   "metadata": {},
   "outputs": [
    {
     "data": {
      "text/html": [
       "<div>\n",
       "<style scoped>\n",
       "    .dataframe tbody tr th:only-of-type {\n",
       "        vertical-align: middle;\n",
       "    }\n",
       "\n",
       "    .dataframe tbody tr th {\n",
       "        vertical-align: top;\n",
       "    }\n",
       "\n",
       "    .dataframe thead th {\n",
       "        text-align: right;\n",
       "    }\n",
       "</style>\n",
       "<table border=\"1\" class=\"dataframe\">\n",
       "  <thead>\n",
       "    <tr style=\"text-align: right;\">\n",
       "      <th></th>\n",
       "      <th>Count</th>\n",
       "      <th>Likes per Article</th>\n",
       "      <th>Clickbait</th>\n",
       "    </tr>\n",
       "    <tr>\n",
       "      <th>Source</th>\n",
       "      <th></th>\n",
       "      <th></th>\n",
       "      <th></th>\n",
       "    </tr>\n",
       "  </thead>\n",
       "  <tbody>\n",
       "    <tr>\n",
       "      <th>100percentfedup</th>\n",
       "      <td>26</td>\n",
       "      <td>8213.076923</td>\n",
       "      <td>11.538462</td>\n",
       "    </tr>\n",
       "    <tr>\n",
       "      <th>1010wins.radio</th>\n",
       "      <td>6</td>\n",
       "      <td>38361.333333</td>\n",
       "      <td>16.666667</td>\n",
       "    </tr>\n",
       "    <tr>\n",
       "      <th>1011now</th>\n",
       "      <td>9</td>\n",
       "      <td>3219.222222</td>\n",
       "      <td>0.000000</td>\n",
       "    </tr>\n",
       "    <tr>\n",
       "      <th>1015thehawk</th>\n",
       "      <td>1</td>\n",
       "      <td>289.000000</td>\n",
       "      <td>0.000000</td>\n",
       "    </tr>\n",
       "    <tr>\n",
       "      <th>101blockchains</th>\n",
       "      <td>1</td>\n",
       "      <td>3.000000</td>\n",
       "      <td>0.000000</td>\n",
       "    </tr>\n",
       "    <tr>\n",
       "      <th>...</th>\n",
       "      <td>...</td>\n",
       "      <td>...</td>\n",
       "      <td>...</td>\n",
       "    </tr>\n",
       "    <tr>\n",
       "      <th>zondervan</th>\n",
       "      <td>1</td>\n",
       "      <td>249.000000</td>\n",
       "      <td>100.000000</td>\n",
       "    </tr>\n",
       "    <tr>\n",
       "      <th>zoomtventertainment</th>\n",
       "      <td>8</td>\n",
       "      <td>1723.125000</td>\n",
       "      <td>50.000000</td>\n",
       "    </tr>\n",
       "    <tr>\n",
       "      <th>zora.medium</th>\n",
       "      <td>6</td>\n",
       "      <td>7527.500000</td>\n",
       "      <td>83.333333</td>\n",
       "    </tr>\n",
       "    <tr>\n",
       "      <th>zters</th>\n",
       "      <td>1</td>\n",
       "      <td>295.000000</td>\n",
       "      <td>0.000000</td>\n",
       "    </tr>\n",
       "    <tr>\n",
       "      <th>zumba</th>\n",
       "      <td>1</td>\n",
       "      <td>4480.000000</td>\n",
       "      <td>100.000000</td>\n",
       "    </tr>\n",
       "  </tbody>\n",
       "</table>\n",
       "<p>7913 rows × 3 columns</p>\n",
       "</div>"
      ],
      "text/plain": [
       "                     Count  Likes per Article   Clickbait\n",
       "Source                                                   \n",
       "100percentfedup         26        8213.076923   11.538462\n",
       "1010wins.radio           6       38361.333333   16.666667\n",
       "1011now                  9        3219.222222    0.000000\n",
       "1015thehawk              1         289.000000    0.000000\n",
       "101blockchains           1           3.000000    0.000000\n",
       "...                    ...                ...         ...\n",
       "zondervan                1         249.000000  100.000000\n",
       "zoomtventertainment      8        1723.125000   50.000000\n",
       "zora.medium              6        7527.500000   83.333333\n",
       "zters                    1         295.000000    0.000000\n",
       "zumba                    1        4480.000000  100.000000\n",
       "\n",
       "[7913 rows x 3 columns]"
      ]
     },
     "execution_count": 68,
     "metadata": {},
     "output_type": "execute_result"
    }
   ],
   "source": [
    "s = pd.DataFrame({'Count' : source['title'].count(),\n",
    "                  'Likes per Article' : source['facebook_likes'].mean(),\n",
    "                  'Clickbait' : 100*source['Clickbait binary'].mean()\n",
    "                  \n",
    "})\n",
    "s"
   ]
  },
  {
   "cell_type": "code",
   "execution_count": 69,
   "metadata": {},
   "outputs": [],
   "source": [
    "new_s = s.sort_values(by='Count', ascending=False)"
   ]
  },
  {
   "cell_type": "code",
   "execution_count": 70,
   "metadata": {},
   "outputs": [
    {
     "data": {
      "text/html": [
       "<div>\n",
       "<style scoped>\n",
       "    .dataframe tbody tr th:only-of-type {\n",
       "        vertical-align: middle;\n",
       "    }\n",
       "\n",
       "    .dataframe tbody tr th {\n",
       "        vertical-align: top;\n",
       "    }\n",
       "\n",
       "    .dataframe thead th {\n",
       "        text-align: right;\n",
       "    }\n",
       "</style>\n",
       "<table border=\"1\" class=\"dataframe\">\n",
       "  <thead>\n",
       "    <tr style=\"text-align: right;\">\n",
       "      <th></th>\n",
       "      <th>Count</th>\n",
       "      <th>Likes per Article</th>\n",
       "      <th>Clickbait</th>\n",
       "    </tr>\n",
       "    <tr>\n",
       "      <th>Source</th>\n",
       "      <th></th>\n",
       "      <th></th>\n",
       "      <th></th>\n",
       "    </tr>\n",
       "  </thead>\n",
       "  <tbody>\n",
       "    <tr>\n",
       "      <th>youtube</th>\n",
       "      <td>8356</td>\n",
       "      <td>14084.759454</td>\n",
       "      <td>53.901388</td>\n",
       "    </tr>\n",
       "    <tr>\n",
       "      <th>cnn</th>\n",
       "      <td>3985</td>\n",
       "      <td>65826.917942</td>\n",
       "      <td>27.202008</td>\n",
       "    </tr>\n",
       "    <tr>\n",
       "      <th>foxnews</th>\n",
       "      <td>3623</td>\n",
       "      <td>74008.637317</td>\n",
       "      <td>13.993928</td>\n",
       "    </tr>\n",
       "    <tr>\n",
       "      <th>thehill</th>\n",
       "      <td>2645</td>\n",
       "      <td>48243.693762</td>\n",
       "      <td>20.529301</td>\n",
       "    </tr>\n",
       "    <tr>\n",
       "      <th>nytimes</th>\n",
       "      <td>2313</td>\n",
       "      <td>63026.594898</td>\n",
       "      <td>26.415910</td>\n",
       "    </tr>\n",
       "    <tr>\n",
       "      <th>...</th>\n",
       "      <td>...</td>\n",
       "      <td>...</td>\n",
       "      <td>...</td>\n",
       "    </tr>\n",
       "    <tr>\n",
       "      <th>myneworleans</th>\n",
       "      <td>1</td>\n",
       "      <td>360.000000</td>\n",
       "      <td>0.000000</td>\n",
       "    </tr>\n",
       "    <tr>\n",
       "      <th>currentnewsnow</th>\n",
       "      <td>1</td>\n",
       "      <td>49223.000000</td>\n",
       "      <td>0.000000</td>\n",
       "    </tr>\n",
       "    <tr>\n",
       "      <th>currentwellnessraleigh</th>\n",
       "      <td>1</td>\n",
       "      <td>34.000000</td>\n",
       "      <td>100.000000</td>\n",
       "    </tr>\n",
       "    <tr>\n",
       "      <th>curtisbartlettfitness</th>\n",
       "      <td>1</td>\n",
       "      <td>533.000000</td>\n",
       "      <td>100.000000</td>\n",
       "    </tr>\n",
       "    <tr>\n",
       "      <th>zumba</th>\n",
       "      <td>1</td>\n",
       "      <td>4480.000000</td>\n",
       "      <td>100.000000</td>\n",
       "    </tr>\n",
       "  </tbody>\n",
       "</table>\n",
       "<p>7913 rows × 3 columns</p>\n",
       "</div>"
      ],
      "text/plain": [
       "                        Count  Likes per Article   Clickbait\n",
       "Source                                                      \n",
       "youtube                  8356       14084.759454   53.901388\n",
       "cnn                      3985       65826.917942   27.202008\n",
       "foxnews                  3623       74008.637317   13.993928\n",
       "thehill                  2645       48243.693762   20.529301\n",
       "nytimes                  2313       63026.594898   26.415910\n",
       "...                       ...                ...         ...\n",
       "myneworleans                1         360.000000    0.000000\n",
       "currentnewsnow              1       49223.000000    0.000000\n",
       "currentwellnessraleigh      1          34.000000  100.000000\n",
       "curtisbartlettfitness       1         533.000000  100.000000\n",
       "zumba                       1        4480.000000  100.000000\n",
       "\n",
       "[7913 rows x 3 columns]"
      ]
     },
     "execution_count": 70,
     "metadata": {},
     "output_type": "execute_result"
    }
   ],
   "source": [
    "new_s"
   ]
  },
  {
   "cell_type": "code",
   "execution_count": 71,
   "metadata": {},
   "outputs": [],
   "source": [
    "top10 = new_s.iloc[0:10]"
   ]
  },
  {
   "cell_type": "code",
   "execution_count": 74,
   "metadata": {},
   "outputs": [
    {
     "data": {
      "text/plain": [
       "Text(0.5, 1.0, 'Percent of Results with Clickbait Titles Across Top 10 Sources')"
      ]
     },
     "execution_count": 74,
     "metadata": {},
     "output_type": "execute_result"
    },
    {
     "data": {
      "image/png": "[encoded data removed]",
      "text/plain": [
       "<Figure size 1080x720 with 1 Axes>"
      ]
     },
     "metadata": {
      "needs_background": "light"
     },
     "output_type": "display_data"
    }
   ],
   "source": [
    "top10 = top10[['Clickbait']]\n",
    "top10.plot(kind='bar', figsize=(15, 10))\n",
    "plt.ylabel('% of Titles Labeled Clickbait')\n",
    "plt.title('Percent of Results with Clickbait Titles Across Top 10 Sources')"
   ]
  },
  {
   "cell_type": "code",
   "execution_count": 46,
   "metadata": {},
   "outputs": [],
   "source": [
    "baitcat = clean[clean['Clickbait binary'] == 1].groupby('Category')"
   ]
  },
  {
   "cell_type": "code",
   "execution_count": 47,
   "metadata": {},
   "outputs": [],
   "source": [
    "nobaitcat = clean[clean['Clickbait binary'] == 0].groupby('Category')"
   ]
  },
  {
   "cell_type": "code",
   "execution_count": 75,
   "metadata": {},
   "outputs": [
    {
     "data": {
      "text/plain": [
       "Text(0.5, 1.0, 'Mean Likes for Clickbait and Not Clickbait Titles Across 11 Categories')"
      ]
     },
     "execution_count": 75,
     "metadata": {},
     "output_type": "execute_result"
    },
    {
     "data": {
      "image/png": "[encoded data removed]",
      "text/plain": [
       "<Figure size 1080x720 with 1 Axes>"
      ]
     },
     "metadata": {
      "needs_background": "light"
     },
     "output_type": "display_data"
    }
   ],
   "source": [
    "f_likes = pd.DataFrame({\n",
    "    'Clickbait' : baitcat['facebook_likes'].mean(),\n",
    "    'Not Clickbait' : nobaitcat['facebook_likes'].mean()\n",
    "})\n",
    "\n",
    "f_likes.plot.bar(figsize=(15,10))\n",
    "plt.ylabel('Mean Facebook Likes per Result')\n",
    "plt.title('Mean Likes for Clickbait and Not Clickbait Titles Across 11 Categories')"
   ]
  },
  {
   "cell_type": "code",
   "execution_count": 57,
   "metadata": {},
   "outputs": [],
   "source": [
    "angry = clean[clean['angry_count'] > 0]"
   ]
  },
  {
   "cell_type": "code",
   "execution_count": 58,
   "metadata": {},
   "outputs": [],
   "source": [
    "angrybaitcat = angry[angry['Clickbait binary'] == 1].groupby('Category')\n",
    "noangrybaitcat = angry[angry['Clickbait binary'] == 0].groupby('Category')"
   ]
  },
  {
   "cell_type": "code",
   "execution_count": 76,
   "metadata": {},
   "outputs": [
    {
     "data": {
      "text/plain": [
       "Text(0.5, 1.0, 'Angry Reactions to Clickbait and Non-Clickbait Titles Across 11 Categories')"
      ]
     },
     "execution_count": 76,
     "metadata": {},
     "output_type": "execute_result"
    },
    {
     "data": {
      "image/png": "[encoded data removed]",
      "text/plain": [
       "<Figure size 1080x720 with 1 Axes>"
      ]
     },
     "metadata": {
      "needs_background": "light"
     },
     "output_type": "display_data"
    }
   ],
   "source": [
    "f_angry = pd.DataFrame({\n",
    "    'Clickbait' : angrybaitcat['angry_count'].mean(),\n",
    "    'Not Clickbait' : noangrybaitcat['angry_count'].mean()\n",
    "})\n",
    "\n",
    "f_angry.plot.bar(figsize=(15, 10))\n",
    "plt.ylabel(\"Mean 'angry reacts' per Result\")\n",
    "plt.title('Angry Reactions to Clickbait and Non-Clickbait Titles Across 11 Categories')"
   ]
  },
  {
   "cell_type": "code",
   "execution_count": null,
   "metadata": {},
   "outputs": [],
   "source": []
  },
  {
   "cell_type": "code",
   "execution_count": null,
   "metadata": {},
   "outputs": [],
   "source": []
  },
  {
   "cell_type": "code",
   "execution_count": null,
   "metadata": {},
   "outputs": [],
   "source": []
  }
 ],
 "metadata": {
  "kernelspec": {
   "display_name": "Python [conda env:root] *",
   "language": "python",
   "name": "conda-root-py"
  },
  "language_info": {
   "codemirror_mode": {
    "name": "ipython",
    "version": 3
   },
   "file_extension": ".py",
   "mimetype": "text/x-python",
   "name": "python",
   "nbconvert_exporter": "python",
   "pygments_lexer": "ipython3",
   "version": "3.7.6"
  }
 },
 "nbformat": 4,
 "nbformat_minor": 4
}
