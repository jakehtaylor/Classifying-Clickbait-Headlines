{
 "cells": [
  {
   "cell_type": "code",
   "execution_count": 60,
   "metadata": {},
   "outputs": [],
   "source": [
    "import numpy as np\n",
    "import pandas as pd\n",
    "import matplotlib.pyplot as plt\n",
    "import re\n",
    "import nltk\n",
    "import json\n",
    "from nltk.corpus import stopwords\n",
    "import string as s\n",
    "\n",
    "from sklearn.model_selection import train_test_split\n",
    "from sklearn.feature_extraction.text import CountVectorizer\n",
    "from sklearn.metrics import confusion_matrix\n",
    "from mlxtend.plotting import plot_confusion_matrix\n",
    "\n",
    "from tensorflow.keras.models import Sequential\n",
    "from tensorflow.keras.layers import Embedding, LSTM, Dense, Dropout, GlobalMaxPooling1D\n",
    "from tensorflow.keras.preprocessing.text import Tokenizer\n",
    "from tensorflow.keras.preprocessing.sequence import pad_sequences\n",
    "from tensorflow.keras.callbacks import ModelCheckpoint, EarlyStopping"
   ]
  },
  {
   "cell_type": "code",
   "execution_count": 3,
   "metadata": {},
   "outputs": [
    {
     "data": {
      "text/html": [
       "<div>\n",
       "<style scoped>\n",
       "    .dataframe tbody tr th:only-of-type {\n",
       "        vertical-align: middle;\n",
       "    }\n",
       "\n",
       "    .dataframe tbody tr th {\n",
       "        vertical-align: top;\n",
       "    }\n",
       "\n",
       "    .dataframe thead th {\n",
       "        text-align: right;\n",
       "    }\n",
       "</style>\n",
       "<table border=\"1\" class=\"dataframe\">\n",
       "  <thead>\n",
       "    <tr style=\"text-align: right;\">\n",
       "      <th></th>\n",
       "      <th>headline</th>\n",
       "      <th>clickbait</th>\n",
       "    </tr>\n",
       "  </thead>\n",
       "  <tbody>\n",
       "    <tr>\n",
       "      <th>0</th>\n",
       "      <td>Should I Get Bings</td>\n",
       "      <td>1</td>\n",
       "    </tr>\n",
       "    <tr>\n",
       "      <th>1</th>\n",
       "      <td>Which TV Female Friend Group Do You Belong In</td>\n",
       "      <td>1</td>\n",
       "    </tr>\n",
       "    <tr>\n",
       "      <th>2</th>\n",
       "      <td>The New \"Star Wars: The Force Awakens\" Trailer...</td>\n",
       "      <td>1</td>\n",
       "    </tr>\n",
       "    <tr>\n",
       "      <th>3</th>\n",
       "      <td>This Vine Of New York On \"Celebrity Big Brothe...</td>\n",
       "      <td>1</td>\n",
       "    </tr>\n",
       "    <tr>\n",
       "      <th>4</th>\n",
       "      <td>A Couple Did A Stunning Photo Shoot With Their...</td>\n",
       "      <td>1</td>\n",
       "    </tr>\n",
       "    <tr>\n",
       "      <th>...</th>\n",
       "      <td>...</td>\n",
       "      <td>...</td>\n",
       "    </tr>\n",
       "    <tr>\n",
       "      <th>31995</th>\n",
       "      <td>To Make Female Hearts Flutter in Iraq, Throw a...</td>\n",
       "      <td>0</td>\n",
       "    </tr>\n",
       "    <tr>\n",
       "      <th>31996</th>\n",
       "      <td>British Liberal Democrat Patsy Calton, 56, die...</td>\n",
       "      <td>0</td>\n",
       "    </tr>\n",
       "    <tr>\n",
       "      <th>31997</th>\n",
       "      <td>Drone smartphone app to help heart attack vict...</td>\n",
       "      <td>0</td>\n",
       "    </tr>\n",
       "    <tr>\n",
       "      <th>31998</th>\n",
       "      <td>Netanyahu Urges Pope Benedict, in Israel, to D...</td>\n",
       "      <td>0</td>\n",
       "    </tr>\n",
       "    <tr>\n",
       "      <th>31999</th>\n",
       "      <td>Computer Makers Prepare to Stake Bigger Claim ...</td>\n",
       "      <td>0</td>\n",
       "    </tr>\n",
       "  </tbody>\n",
       "</table>\n",
       "<p>32000 rows × 2 columns</p>\n",
       "</div>"
      ],
      "text/plain": [
       "                                                headline  clickbait\n",
       "0                                     Should I Get Bings          1\n",
       "1          Which TV Female Friend Group Do You Belong In          1\n",
       "2      The New \"Star Wars: The Force Awakens\" Trailer...          1\n",
       "3      This Vine Of New York On \"Celebrity Big Brothe...          1\n",
       "4      A Couple Did A Stunning Photo Shoot With Their...          1\n",
       "...                                                  ...        ...\n",
       "31995  To Make Female Hearts Flutter in Iraq, Throw a...          0\n",
       "31996  British Liberal Democrat Patsy Calton, 56, die...          0\n",
       "31997  Drone smartphone app to help heart attack vict...          0\n",
       "31998  Netanyahu Urges Pope Benedict, in Israel, to D...          0\n",
       "31999  Computer Makers Prepare to Stake Bigger Claim ...          0\n",
       "\n",
       "[32000 rows x 2 columns]"
      ]
     },
     "execution_count": 3,
     "metadata": {},
     "output_type": "execute_result"
    }
   ],
   "source": [
    "FILE_PATH = 'resources/clickbait_data.csv'\n",
    "data = pd.read_csv(FILE_PATH)\n",
    "data"
   ]
  },
  {
   "cell_type": "code",
   "execution_count": 34,
   "metadata": {},
   "outputs": [],
   "source": [
    "text = data['headline'].values\n",
    "labels = data['clickbait'].values\n",
    "\n",
    "stpwrds = set(stopwords.words('english'))\n",
    "new_text =[]\n",
    "\n",
    "_digits_ = str.maketrans('', '', s.digits)\n",
    "\n",
    "for head in text:\n",
    "    head = head.translate(_digits_)\n",
    "    head = head.lower()\n",
    "    head = ' '.join(list(set(re.split(\"\\W+\",head)) - stpwrds))\n",
    "    new_text.append(head)\n",
    "    \n",
    "text_train, text_test, y_train, y_test = train_test_split(new_text, labels)\n",
    "\n",
    "tokenizer = Tokenizer(lower=True)\n",
    "tokenizer.fit_on_texts(new_text)\n",
    "\n",
    "X_train = tokenizer.texts_to_sequences(text_train)\n",
    "x_test = tokenizer.texts_to_sequences(text_test)\n",
    "\n",
    "X_train = pad_sequences(X_train, maxlen=100)\n",
    "x_test = pad_sequences(x_test, maxlen=100)"
   ]
  },
  {
   "cell_type": "code",
   "execution_count": 35,
   "metadata": {},
   "outputs": [
    {
     "data": {
      "text/plain": [
       "['sir sugar keep television alan role apprentice',\n",
       " ' life changing things october try',\n",
       " 'assault senator expelled rejects us new appeals convicted court york bid',\n",
       " ' grilling day hacks labor',\n",
       " 'hedgehog annoying moment sonic games',\n",
       " 'influence latin expands deal china america',\n",
       " 'lifetime called would movie',\n",
       " 'grandma jagger swift best mick reaction bringing taylor onstage',\n",
       " ' make feel friends legitimately old facts',\n",
       " ' beijing set protest apparent car fire',\n",
       " 'highlights u skating weir lysacek championships versus figure',\n",
       " 'turmoil boost u midst gets research group ukraine',\n",
       " ' characters vegas fallout new',\n",
       " 'menu us sliced tomatoes mcdonald pull',\n",
       " 'oversaving times burden',\n",
       " 'u trucking diet putting',\n",
       " ' obsessed shameless things band become happen',\n",
       " ' awesome life totally make fun products',\n",
       " 'hughes big inning track winning puts one',\n",
       " 'launches attacks afghanistan taliban capital series']"
      ]
     },
     "execution_count": 35,
     "metadata": {},
     "output_type": "execute_result"
    }
   ],
   "source": [
    "text_train[0:20]"
   ]
  },
  {
   "cell_type": "code",
   "execution_count": 52,
   "metadata": {},
   "outputs": [],
   "source": [
    "n = []\n",
    "\n",
    "for h in text:\n",
    "    n.extend(h.split(' '))\n",
    "    \n",
    "vocab = len(pd.Series(n).unique())"
   ]
  },
  {
   "cell_type": "code",
   "execution_count": 53,
   "metadata": {},
   "outputs": [
    {
     "name": "stdout",
     "output_type": "stream",
     "text": [
      "Model: \"sequential\"\n",
      "_________________________________________________________________\n",
      "Layer (type)                 Output Shape              Param #   \n",
      "=================================================================\n",
      "embedding (Embedding)        (None, 100, 32)           1145312   \n",
      "_________________________________________________________________\n",
      "lstm (LSTM)                  (None, 100, 32)           8320      \n",
      "_________________________________________________________________\n",
      "global_max_pooling1d (Global (None, 32)                0         \n",
      "_________________________________________________________________\n",
      "dropout (Dropout)            (None, 32)                0         \n",
      "_________________________________________________________________\n",
      "dense (Dense)                (None, 1)                 33        \n",
      "=================================================================\n",
      "Total params: 1,153,665\n",
      "Trainable params: 1,153,665\n",
      "Non-trainable params: 0\n",
      "_________________________________________________________________\n"
     ]
    }
   ],
   "source": [
    "model = Sequential()\n",
    "model.add(Embedding(vocab+1, 32, input_length=100))\n",
    "model.add(LSTM(32, return_sequences=True))\n",
    "model.add(GlobalMaxPooling1D())\n",
    "model.add(Dropout(0.2))\n",
    "model.add(Dense(1, activation='sigmoid'))\n",
    "model.summary()"
   ]
  },
  {
   "cell_type": "code",
   "execution_count": 54,
   "metadata": {},
   "outputs": [],
   "source": [
    "callbacks = [\n",
    "    EarlyStopping(\n",
    "        monitor='val_accuracy',\n",
    "        min_delta=1e-4,\n",
    "        patience=3,\n",
    "        verbose=1\n",
    "    ),\n",
    "    ModelCheckpoint(\n",
    "        filepath='weights.h5',\n",
    "        monitor='val_accuracy', \n",
    "        mode='max', \n",
    "        save_best_only=True,\n",
    "        save_weights_only=True,\n",
    "        verbose=1\n",
    "    )\n",
    "]\n"
   ]
  },
  {
   "cell_type": "code",
   "execution_count": 55,
   "metadata": {
    "collapsed": true,
    "jupyter": {
     "outputs_hidden": true
    }
   },
   "outputs": [
    {
     "name": "stdout",
     "output_type": "stream",
     "text": [
      "Epoch 1/20\n",
      "47/47 [==============================] - ETA: 0s - loss: 0.6714 - accuracy: 0.7801\n",
      "Epoch 00001: val_accuracy improved from -inf to 0.77975, saving model to weights.h5\n",
      "47/47 [==============================] - 39s 821ms/step - loss: 0.6714 - accuracy: 0.7801 - val_loss: 0.6106 - val_accuracy: 0.7797\n",
      "Epoch 2/20\n",
      "47/47 [==============================] - ETA: 0s - loss: 0.5340 - accuracy: 0.8435\n",
      "Epoch 00002: val_accuracy improved from 0.77975 to 0.87800, saving model to weights.h5\n",
      "47/47 [==============================] - 34s 730ms/step - loss: 0.5340 - accuracy: 0.8435 - val_loss: 0.4510 - val_accuracy: 0.8780\n",
      "Epoch 3/20\n",
      "47/47 [==============================] - ETA: 0s - loss: 0.3649 - accuracy: 0.9398\n",
      "Epoch 00003: val_accuracy improved from 0.87800 to 0.94750, saving model to weights.h5\n",
      "47/47 [==============================] - 35s 752ms/step - loss: 0.3649 - accuracy: 0.9398 - val_loss: 0.3031 - val_accuracy: 0.9475\n",
      "Epoch 4/20\n",
      "47/47 [==============================] - ETA: 0s - loss: 0.2411 - accuracy: 0.9617\n",
      "Epoch 00004: val_accuracy improved from 0.94750 to 0.95262, saving model to weights.h5\n",
      "47/47 [==============================] - 35s 736ms/step - loss: 0.2411 - accuracy: 0.9617 - val_loss: 0.2154 - val_accuracy: 0.9526\n",
      "Epoch 5/20\n",
      "47/47 [==============================] - ETA: 0s - loss: 0.1679 - accuracy: 0.9703\n",
      "Epoch 00005: val_accuracy improved from 0.95262 to 0.95512, saving model to weights.h5\n",
      "47/47 [==============================] - 35s 749ms/step - loss: 0.1679 - accuracy: 0.9703 - val_loss: 0.1688 - val_accuracy: 0.9551\n",
      "Epoch 6/20\n",
      "47/47 [==============================] - ETA: 0s - loss: 0.1251 - accuracy: 0.9768\n",
      "Epoch 00006: val_accuracy improved from 0.95512 to 0.95638, saving model to weights.h5\n",
      "47/47 [==============================] - 33s 705ms/step - loss: 0.1251 - accuracy: 0.9768 - val_loss: 0.1432 - val_accuracy: 0.9564\n",
      "Epoch 7/20\n",
      "47/47 [==============================] - ETA: 0s - loss: 0.0972 - accuracy: 0.9814\n",
      "Epoch 00007: val_accuracy improved from 0.95638 to 0.95875, saving model to weights.h5\n",
      "47/47 [==============================] - 37s 784ms/step - loss: 0.0972 - accuracy: 0.9814 - val_loss: 0.1289 - val_accuracy: 0.9588\n",
      "Epoch 8/20\n",
      "47/47 [==============================] - ETA: 0s - loss: 0.0767 - accuracy: 0.9860\n",
      "Epoch 00008: val_accuracy improved from 0.95875 to 0.95888, saving model to weights.h5\n",
      "47/47 [==============================] - 43s 922ms/step - loss: 0.0767 - accuracy: 0.9860 - val_loss: 0.1209 - val_accuracy: 0.9589\n",
      "Epoch 9/20\n",
      "47/47 [==============================] - ETA: 0s - loss: 0.0631 - accuracy: 0.9887\n",
      "Epoch 00009: val_accuracy did not improve from 0.95888\n",
      "47/47 [==============================] - 42s 900ms/step - loss: 0.0631 - accuracy: 0.9887 - val_loss: 0.1164 - val_accuracy: 0.9589\n",
      "Epoch 10/20\n",
      "47/47 [==============================] - ETA: 0s - loss: 0.0514 - accuracy: 0.9909\n",
      "Epoch 00010: val_accuracy improved from 0.95888 to 0.95938, saving model to weights.h5\n",
      "47/47 [==============================] - 35s 751ms/step - loss: 0.0514 - accuracy: 0.9909 - val_loss: 0.1145 - val_accuracy: 0.9594\n",
      "Epoch 11/20\n",
      "47/47 [==============================] - ETA: 0s - loss: 0.0429 - accuracy: 0.9928\n",
      "Epoch 00011: val_accuracy improved from 0.95938 to 0.95963, saving model to weights.h5\n",
      "47/47 [==============================] - 34s 724ms/step - loss: 0.0429 - accuracy: 0.9928 - val_loss: 0.1138 - val_accuracy: 0.9596\n",
      "Epoch 12/20\n",
      "47/47 [==============================] - ETA: 0s - loss: 0.0372 - accuracy: 0.9948\n",
      "Epoch 00012: val_accuracy did not improve from 0.95963\n",
      "47/47 [==============================] - 43s 923ms/step - loss: 0.0372 - accuracy: 0.9948 - val_loss: 0.1155 - val_accuracy: 0.9591\n",
      "Epoch 13/20\n",
      "47/47 [==============================] - ETA: 0s - loss: 0.0315 - accuracy: 0.9958\n",
      "Epoch 00013: val_accuracy did not improve from 0.95963\n",
      "47/47 [==============================] - 54s 1s/step - loss: 0.0315 - accuracy: 0.9958 - val_loss: 0.1172 - val_accuracy: 0.9589\n",
      "Epoch 14/20\n",
      "47/47 [==============================] - ETA: 0s - loss: 0.0270 - accuracy: 0.9964\n",
      "Epoch 00014: val_accuracy did not improve from 0.95963\n",
      "47/47 [==============================] - 59s 1s/step - loss: 0.0270 - accuracy: 0.9964 - val_loss: 0.1187 - val_accuracy: 0.9581\n",
      "Epoch 00014: early stopping\n"
     ]
    }
   ],
   "source": [
    "model.compile(loss='binary_crossentropy', optimizer='adam', metrics=['accuracy'])\n",
    "\n",
    "history = model.fit(X_train, \n",
    "                    y_train, \n",
    "                    batch_size=512, \n",
    "                    validation_data=(x_test, y_test), \n",
    "                    epochs=20, \n",
    "                    callbacks=callbacks)\n",
    "\n",
    "\n",
    "\n",
    "\n"
   ]
  },
  {
   "cell_type": "code",
   "execution_count": 56,
   "metadata": {},
   "outputs": [
    {
     "name": "stdout",
     "output_type": "stream",
     "text": [
      "WARNING:tensorflow:From /Users/jaketaylor/opt/anaconda3/lib/python3.7/site-packages/tensorflow/python/ops/resource_variable_ops.py:1817: calling BaseResourceVariable.__init__ (from tensorflow.python.ops.resource_variable_ops) with constraint is deprecated and will be removed in a future version.\n",
      "Instructions for updating:\n",
      "If using Keras pass *_constraint arguments to layers.\n",
      "INFO:tensorflow:Assets written to: model/assets\n"
     ]
    }
   ],
   "source": [
    "model.load_weights('weights.h5')\n",
    "model.save('model')"
   ]
  },
  {
   "cell_type": "code",
   "execution_count": 61,
   "metadata": {},
   "outputs": [
    {
     "data": {
      "text/plain": [
       "<Figure size 432x288 with 0 Axes>"
      ]
     },
     "metadata": {},
     "output_type": "display_data"
    },
    {
     "data": {
      "image/png": "[encoded data removed]",
      "text/plain": [
       "<Figure size 864x576 with 1 Axes>"
      ]
     },
     "metadata": {
      "needs_background": "light"
     },
     "output_type": "display_data"
    }
   ],
   "source": [
    "preds = [round(i[0]) for i in model.predict(x_test)]\n",
    "cm = confusion_matrix(y_test, preds)\n",
    "plt.figure()\n",
    "plot_confusion_matrix(cm, figsize=(12,8), hide_ticks=True, cmap=plt.cm.Blues)\n",
    "plt.xticks(range(2), ['Not clickbait', 'Clickbait'], fontsize=16)\n",
    "plt.yticks(range(2), ['Not clickbait', 'Clickbait'], fontsize=16)\n",
    "plt.show()"
   ]
  },
  {
   "cell_type": "code",
   "execution_count": 62,
   "metadata": {},
   "outputs": [
    {
     "name": "stdout",
     "output_type": "stream",
     "text": [
      "Recall of the model is 0.97\n",
      "Precision of the model is 0.95\n"
     ]
    }
   ],
   "source": [
    "tn, fp, fn, tp = cm.ravel()\n",
    "\n",
    "precision = tp/(tp+fp)\n",
    "recall = tp/(tp+fn)\n",
    "\n",
    "print(\"Recall of the model is {:.2f}\".format(recall))\n",
    "print(\"Precision of the model is {:.2f}\".format(precision))"
   ]
  },
  {
   "cell_type": "code",
   "execution_count": 69,
   "metadata": {},
   "outputs": [],
   "source": [
    "\n",
    "def predict(test):\n",
    "    \n",
    "    for t in test:\n",
    "        t = t.translate(_digits_)\n",
    "        t = t.lower()\n",
    "        t = ' '.join(list(set(re.split(\"\\W+\",t)) - stpwrds))\n",
    "\n",
    "    token_text = pad_sequences(tokenizer.texts_to_sequences(test), maxlen=100)\n",
    "\n",
    "    preds = [round(i[0]) for i in model.predict(token_text)]\n",
    "    for (text, pred) in zip(test, preds):\n",
    "        label = 'Clickbait' if pred == 1.0 else 'Not Clickbait'\n",
    "        print(\"{} - {}\".format(text, label))\n"
   ]
  }
 ],
 "metadata": {
  "kernelspec": {
   "display_name": "Python [conda env:root] *",
   "language": "python",
   "name": "conda-root-py"
  },
  "language_info": {
   "codemirror_mode": {
    "name": "ipython",
    "version": 3
   },
   "file_extension": ".py",
   "mimetype": "text/x-python",
   "name": "python",
   "nbconvert_exporter": "python",
   "pygments_lexer": "ipython3",
   "version": "3.7.6"
  }
 },
 "nbformat": 4,
 "nbformat_minor": 4
}
